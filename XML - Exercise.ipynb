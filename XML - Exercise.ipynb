{
 "cells": [
  {
   "cell_type": "markdown",
   "metadata": {},
   "source": [
    "# XML example and exercise\n",
    "****\n",
    "+ study examples of accessing nodes in XML tree structure  \n",
    "+ work on exercise to be completed and submitted\n",
    "****\n",
    "+ reference: https://docs.python.org/2.7/library/xml.etree.elementtree.html\n",
    "+ data source: http://www.dbis.informatik.uni-goettingen.de/Mondial\n",
    "****"
   ]
  },
  {
   "cell_type": "code",
   "execution_count": 1,
   "metadata": {
    "collapsed": true
   },
   "outputs": [],
   "source": [
    "from xml.etree import ElementTree as ET"
   ]
  },
  {
   "cell_type": "markdown",
   "metadata": {},
   "source": [
    "## XML example\n",
    "\n",
    "+ for details about tree traversal and iterators, see https://docs.python.org/2.7/library/xml.etree.elementtree.html"
   ]
  },
  {
   "cell_type": "code",
   "execution_count": 2,
   "metadata": {
    "collapsed": true
   },
   "outputs": [],
   "source": [
    "document_tree = ET.parse( './data/mondial_database_less.xml' )"
   ]
  },
  {
   "cell_type": "code",
   "execution_count": 3,
   "metadata": {
    "collapsed": false
   },
   "outputs": [
    {
     "ename": "SyntaxError",
     "evalue": "invalid syntax (<ipython-input-3-71a7702f86c3>, line 3)",
     "output_type": "error",
     "traceback": [
      "\u001b[0;36m  File \u001b[0;32m\"<ipython-input-3-71a7702f86c3>\"\u001b[0;36m, line \u001b[0;32m3\u001b[0m\n\u001b[0;31m    print child.find('name').text\u001b[0m\n\u001b[0m              ^\u001b[0m\n\u001b[0;31mSyntaxError\u001b[0m\u001b[0;31m:\u001b[0m invalid syntax\n"
     ]
    }
   ],
   "source": [
    "# print names of all countries\n",
    "for child in document_tree.getroot():\n",
    "    print child.find('name').text"
   ]
  },
  {
   "cell_type": "code",
   "execution_count": 4,
   "metadata": {
    "collapsed": false
   },
   "outputs": [
    {
     "ename": "SyntaxError",
     "evalue": "invalid syntax (<ipython-input-4-6645883cfe43>, line 3)",
     "output_type": "error",
     "traceback": [
      "\u001b[0;36m  File \u001b[0;32m\"<ipython-input-4-6645883cfe43>\"\u001b[0;36m, line \u001b[0;32m3\u001b[0m\n\u001b[0;31m    print '* ' + element.find('name').text + ':',\u001b[0m\n\u001b[0m             ^\u001b[0m\n\u001b[0;31mSyntaxError\u001b[0m\u001b[0;31m:\u001b[0m invalid syntax\n"
     ]
    }
   ],
   "source": [
    "# print names of all countries and their cities\n",
    "for element in document_tree.iterfind('country'):\n",
    "    print '* ' + element.find('name').text + ':',\n",
    "    capitals_string = ''\n",
    "    for subelement in element.getiterator('city'):\n",
    "        capitals_string += subelement.find('name').text + ', '\n",
    "    print capitals_string[:-2]"
   ]
  },
  {
   "cell_type": "markdown",
   "metadata": {},
   "source": [
    "****\n",
    "## XML exercise\n",
    "\n",
    "Using data in 'data/mondial_database.xml', the examples above, and refering to https://docs.python.org/2.7/library/xml.etree.elementtree.html, find\n",
    "\n",
    "1. 10 countries with the lowest infant mortality rates\n",
    "2. 10 cities with the largest population\n",
    "3. 10 ethnic groups with the largest overall populations (sum of best/latest estimates over all countries)\n",
    "4. name and country of a) longest river, b) largest lake and c) airport at highest elevation"
   ]
  },
  {
   "cell_type": "code",
   "execution_count": 5,
   "metadata": {
    "collapsed": true
   },
   "outputs": [],
   "source": [
    "document = ET.parse( './data/mondial_database.xml' )\n",
    "root = document.getroot() "
   ]
  },
  {
   "cell_type": "markdown",
   "metadata": {},
   "source": [
    "# Anwers"
   ]
  },
  {
   "cell_type": "markdown",
   "metadata": {},
   "source": [
    "EXERCISE 1 "
   ]
  },
  {
   "cell_type": "code",
   "execution_count": 6,
   "metadata": {
    "collapsed": true
   },
   "outputs": [],
   "source": [
    "import pandas as pd"
   ]
  },
  {
   "cell_type": "code",
   "execution_count": 7,
   "metadata": {
    "collapsed": false
   },
   "outputs": [
    {
     "data": {
      "text/html": [
       "<div>\n",
       "<table border=\"1\" class=\"dataframe\">\n",
       "  <thead>\n",
       "    <tr style=\"text-align: right;\">\n",
       "      <th></th>\n",
       "      <th>name</th>\n",
       "      <th>mort</th>\n",
       "    </tr>\n",
       "  </thead>\n",
       "  <tbody>\n",
       "    <tr>\n",
       "      <th>36</th>\n",
       "      <td>Monaco</td>\n",
       "      <td>1.81</td>\n",
       "    </tr>\n",
       "    <tr>\n",
       "      <th>90</th>\n",
       "      <td>Japan</td>\n",
       "      <td>2.13</td>\n",
       "    </tr>\n",
       "    <tr>\n",
       "      <th>109</th>\n",
       "      <td>Bermuda</td>\n",
       "      <td>2.48</td>\n",
       "    </tr>\n",
       "    <tr>\n",
       "      <th>34</th>\n",
       "      <td>Norway</td>\n",
       "      <td>2.48</td>\n",
       "    </tr>\n",
       "    <tr>\n",
       "      <th>98</th>\n",
       "      <td>Singapore</td>\n",
       "      <td>2.53</td>\n",
       "    </tr>\n",
       "    <tr>\n",
       "      <th>35</th>\n",
       "      <td>Sweden</td>\n",
       "      <td>2.60</td>\n",
       "    </tr>\n",
       "    <tr>\n",
       "      <th>8</th>\n",
       "      <td>Czech Republic</td>\n",
       "      <td>2.63</td>\n",
       "    </tr>\n",
       "    <tr>\n",
       "      <th>72</th>\n",
       "      <td>Hong Kong</td>\n",
       "      <td>2.73</td>\n",
       "    </tr>\n",
       "    <tr>\n",
       "      <th>73</th>\n",
       "      <td>Macao</td>\n",
       "      <td>3.13</td>\n",
       "    </tr>\n",
       "    <tr>\n",
       "      <th>39</th>\n",
       "      <td>Iceland</td>\n",
       "      <td>3.15</td>\n",
       "    </tr>\n",
       "  </tbody>\n",
       "</table>\n",
       "</div>"
      ],
      "text/plain": [
       "               name  mort\n",
       "36           Monaco  1.81\n",
       "90            Japan  2.13\n",
       "109         Bermuda  2.48\n",
       "34           Norway  2.48\n",
       "98        Singapore  2.53\n",
       "35           Sweden  2.60\n",
       "8    Czech Republic  2.63\n",
       "72        Hong Kong  2.73\n",
       "73            Macao  3.13\n",
       "39          Iceland  3.15"
      ]
     },
     "execution_count": 7,
     "metadata": {},
     "output_type": "execute_result"
    }
   ],
   "source": [
    "# Extracting values to future DataFrame - PLan: Create a easy dataframe and use Pandas on it\n",
    "\n",
    "\n",
    "\n",
    "ex1 = { 'mort': [], 'name':[]}\n",
    "\n",
    "\n",
    "for x in root.iter('country'):\n",
    "    for name,mort in zip(x.findall('name'),x.findall('infant_mortality')):\n",
    "        ex1['name'].append(name.text)\n",
    "        ex1['mort'].append(mort.text)\n",
    "    \n",
    "    \n",
    "# Using Pandas to show the results\n",
    "\n",
    "data = pd.DataFrame(data=ex1)\n",
    "data = data[['name','mort']]\n",
    "data['mort']=data.mort.astype(float)\n",
    "\n",
    "data.sort_values(by='mort').head(10)\n"
   ]
  },
  {
   "cell_type": "markdown",
   "metadata": {},
   "source": [
    "EXERCISE 2"
   ]
  },
  {
   "cell_type": "code",
   "execution_count": 25,
   "metadata": {
    "collapsed": true
   },
   "outputs": [],
   "source": [
    "import numpy as np"
   ]
  },
  {
   "cell_type": "code",
   "execution_count": 170,
   "metadata": {
    "collapsed": false
   },
   "outputs": [
    {
     "name": "stderr",
     "output_type": "stream",
     "text": [
      "F:\\Anaconda2\\lib\\site-packages\\ipykernel\\__main__.py:47: SettingWithCopyWarning: \n",
      "A value is trying to be set on a copy of a slice from a DataFrame.\n",
      "Try using .loc[row_indexer,col_indexer] = value instead\n",
      "\n",
      "See the caveats in the documentation: http://pandas.pydata.org/pandas-docs/stable/indexing.html#indexing-view-versus-copy\n"
     ]
    },
    {
     "data": {
      "text/html": [
       "<div>\n",
       "<table border=\"1\" class=\"dataframe\">\n",
       "  <thead>\n",
       "    <tr style=\"text-align: right;\">\n",
       "      <th></th>\n",
       "      <th>name</th>\n",
       "      <th>pop</th>\n",
       "    </tr>\n",
       "  </thead>\n",
       "  <tbody>\n",
       "    <tr>\n",
       "      <th>1527</th>\n",
       "      <td>Mumbai</td>\n",
       "      <td>12442373</td>\n",
       "    </tr>\n",
       "    <tr>\n",
       "      <th>1582</th>\n",
       "      <td>Delhi</td>\n",
       "      <td>11034555</td>\n",
       "    </tr>\n",
       "    <tr>\n",
       "      <th>1515</th>\n",
       "      <td>Bangalore</td>\n",
       "      <td>8443675</td>\n",
       "    </tr>\n",
       "    <tr>\n",
       "      <th>1000</th>\n",
       "      <td>London</td>\n",
       "      <td>8250205</td>\n",
       "    </tr>\n",
       "    <tr>\n",
       "      <th>1382</th>\n",
       "      <td>Tehran</td>\n",
       "      <td>8154051</td>\n",
       "    </tr>\n",
       "    <tr>\n",
       "      <th>1470</th>\n",
       "      <td>Dhaka</td>\n",
       "      <td>7423137</td>\n",
       "    </tr>\n",
       "    <tr>\n",
       "      <th>1591</th>\n",
       "      <td>Hyderabad</td>\n",
       "      <td>6731790</td>\n",
       "    </tr>\n",
       "    <tr>\n",
       "      <th>1505</th>\n",
       "      <td>Ahmadabad</td>\n",
       "      <td>5577940</td>\n",
       "    </tr>\n",
       "    <tr>\n",
       "      <th>3056</th>\n",
       "      <td>Luanda</td>\n",
       "      <td>5000000</td>\n",
       "    </tr>\n",
       "    <tr>\n",
       "      <th>1556</th>\n",
       "      <td>Chennai</td>\n",
       "      <td>4646732</td>\n",
       "    </tr>\n",
       "  </tbody>\n",
       "</table>\n",
       "</div>"
      ],
      "text/plain": [
       "           name       pop\n",
       "1527     Mumbai  12442373\n",
       "1582      Delhi  11034555\n",
       "1515  Bangalore   8443675\n",
       "1000     London   8250205\n",
       "1382     Tehran   8154051\n",
       "1470      Dhaka   7423137\n",
       "1591  Hyderabad   6731790\n",
       "1505  Ahmadabad   5577940\n",
       "3056     Luanda   5000000\n",
       "1556    Chennai   4646732"
      ]
     },
     "execution_count": 170,
     "metadata": {},
     "output_type": "execute_result"
    }
   ],
   "source": [
    "# Extracting values to future DataFrame - PLan: Create a easy dataframe and use Pandas on it\n",
    "\n",
    "#ASSUMING THE POPULATION ONLY IN CITIES WITH 2011 CENSUS INFO - NOT DESCRIBED IN THE QUESTION\n",
    "\n",
    "ex2 = { 'pop': [], 'name':[]}\n",
    "\n",
    "for ct in root.iter('city'):\n",
    "    ex2['name'].append(ct[0].text)\n",
    "    #checking if there is a population tag\n",
    "    p = ct.find('population')\n",
    "    if p is None:\n",
    "        #if not, nan\n",
    "        ex2['pop'].append(np.nan)\n",
    "    else:\n",
    "        # if there is:\n",
    "        #iterate into population tags to check if is there a attrib = 2011\n",
    "        check=[]\n",
    "        for x in ct.iter('population'):\n",
    "            check.append(x.attrib['year'])\n",
    "        if '2011' in check:\n",
    "            for x in ct.iter('population'):\n",
    "                if x.attrib['year'] == '2011':\n",
    "                    ex2['pop'].append(x.text)\n",
    "        else:\n",
    "            ex2['pop'].append(np.nan)\n",
    "            \n",
    "          \n",
    "    \n",
    "    \n",
    "# Using Pandas to show the results\n",
    "\n",
    "data = pd.DataFrame(data=ex2)\n",
    "data_clean= data.dropna(axis=0)\n",
    "data_clean['pop'] = data_clean['pop'].astype(int)\n",
    "\n",
    "\n",
    "\n",
    "data_clean.sort_values(by='pop', ascending=False).head(10)\n"
   ]
  },
  {
   "cell_type": "markdown",
   "metadata": {
    "collapsed": true
   },
   "source": [
    "EXERCISE 3"
   ]
  },
  {
   "cell_type": "code",
   "execution_count": 226,
   "metadata": {
    "collapsed": false
   },
   "outputs": [
    {
     "data": {
      "text/html": [
       "<div>\n",
       "<table border=\"1\" class=\"dataframe\">\n",
       "  <thead>\n",
       "    <tr style=\"text-align: right;\">\n",
       "      <th></th>\n",
       "      <th>ethnic</th>\n",
       "      <th>pop</th>\n",
       "    </tr>\n",
       "  </thead>\n",
       "  <tbody>\n",
       "    <tr>\n",
       "      <th>80</th>\n",
       "      <td>Han Chinese</td>\n",
       "      <td>1.245059e+09</td>\n",
       "    </tr>\n",
       "    <tr>\n",
       "      <th>106</th>\n",
       "      <td>Indo-Aryan</td>\n",
       "      <td>8.718156e+08</td>\n",
       "    </tr>\n",
       "    <tr>\n",
       "      <th>105</th>\n",
       "      <td>Dravidian</td>\n",
       "      <td>3.027137e+08</td>\n",
       "    </tr>\n",
       "    <tr>\n",
       "      <th>98</th>\n",
       "      <td>Bengali</td>\n",
       "      <td>1.467769e+08</td>\n",
       "    </tr>\n",
       "    <tr>\n",
       "      <th>139</th>\n",
       "      <td>Japanese</td>\n",
       "      <td>1.265342e+08</td>\n",
       "    </tr>\n",
       "    <tr>\n",
       "      <th>130</th>\n",
       "      <td>Eastern Hamitic</td>\n",
       "      <td>8.283038e+07</td>\n",
       "    </tr>\n",
       "    <tr>\n",
       "      <th>147</th>\n",
       "      <td>Mulatto</td>\n",
       "      <td>7.806590e+07</td>\n",
       "    </tr>\n",
       "    <tr>\n",
       "      <th>119</th>\n",
       "      <td>Viet/Kinh</td>\n",
       "      <td>7.607838e+07</td>\n",
       "    </tr>\n",
       "    <tr>\n",
       "      <th>70</th>\n",
       "      <td>English</td>\n",
       "      <td>5.359233e+07</td>\n",
       "    </tr>\n",
       "    <tr>\n",
       "      <th>17</th>\n",
       "      <td>Mediterranean Nordic</td>\n",
       "      <td>4.681592e+07</td>\n",
       "    </tr>\n",
       "  </tbody>\n",
       "</table>\n",
       "</div>"
      ],
      "text/plain": [
       "                   ethnic           pop\n",
       "80            Han Chinese  1.245059e+09\n",
       "106            Indo-Aryan  8.718156e+08\n",
       "105             Dravidian  3.027137e+08\n",
       "98                Bengali  1.467769e+08\n",
       "139              Japanese  1.265342e+08\n",
       "130       Eastern Hamitic  8.283038e+07\n",
       "147               Mulatto  7.806590e+07\n",
       "119             Viet/Kinh  7.607838e+07\n",
       "70                English  5.359233e+07\n",
       "17   Mediterranean Nordic  4.681592e+07"
      ]
     },
     "execution_count": 226,
     "metadata": {},
     "output_type": "execute_result"
    }
   ],
   "source": [
    "# Extracting values to future DataFrame - PLan: Create a easy dataframe and use Pandas on it\n",
    "\n",
    "ex3 = {}\n",
    "\n",
    "for ct in root.iter('country'):\n",
    "    #checking if there is a ethnicgroup tag\n",
    "    p = ct.find('ethnicgroup')\n",
    "    if p is not None:\n",
    "    # Final Plan:  ex3['ethnicgroup'] += % * population\n",
    "        \n",
    "        #getting population variable\n",
    "        bestyear = []\n",
    "        for pop in ct.findall('population'):\n",
    "            bestyear.append(pop.attrib['year'])\n",
    "        \n",
    "        population= []\n",
    "        for pop in ct.findall('population'):\n",
    "            if pop.attrib['year'] == bestyear[len(bestyear) -1]:\n",
    "                population.append(pop.text)\n",
    "        \n",
    "    \n",
    "        for et in ct.findall('ethnicgroup'):\n",
    "            a = et.get('percentage')\n",
    "            ex3[et.text] =+ ((float(a)/100 )*(float(population[0])))\n",
    "\n",
    "# seting dict to pandas dataframe            \n",
    "ex33 = {'ethnic': [], 'pop' : []}\n",
    "for etc,pop in ex3.items():\n",
    "    ex33['ethnic'].append(etc)\n",
    "    ex33['pop'].append(pop)   \n",
    "    \n",
    "# Using Pandas to show the results\n",
    "data = pd.DataFrame(data=ex33)\n",
    "data.sort_values(by='pop', ascending=False).head(10)\n",
    "\n"
   ]
  },
  {
   "cell_type": "markdown",
   "metadata": {
    "collapsed": true
   },
   "source": []
  },
  {
   "cell_type": "code",
   "execution_count": null,
   "metadata": {
    "collapsed": true
   },
   "outputs": [],
   "source": []
  },
  {
   "cell_type": "code",
   "execution_count": null,
   "metadata": {
    "collapsed": true
   },
   "outputs": [],
   "source": []
  },
  {
   "cell_type": "code",
   "execution_count": null,
   "metadata": {
    "collapsed": true
   },
   "outputs": [],
   "source": []
  },
  {
   "cell_type": "code",
   "execution_count": null,
   "metadata": {
    "collapsed": true
   },
   "outputs": [],
   "source": []
  },
  {
   "cell_type": "code",
   "execution_count": null,
   "metadata": {
    "collapsed": true
   },
   "outputs": [],
   "source": []
  },
  {
   "cell_type": "code",
   "execution_count": null,
   "metadata": {
    "collapsed": true
   },
   "outputs": [],
   "source": []
  }
 ],
 "metadata": {
  "kernelspec": {
   "display_name": "Python 3",
   "language": "python",
   "name": "python3"
  },
  "language_info": {
   "codemirror_mode": {
    "name": "ipython",
    "version": 3
   },
   "file_extension": ".py",
   "mimetype": "text/x-python",
   "name": "python",
   "nbconvert_exporter": "python",
   "pygments_lexer": "ipython3",
   "version": "3.6.0"
  }
 },
 "nbformat": 4,
 "nbformat_minor": 0
}
