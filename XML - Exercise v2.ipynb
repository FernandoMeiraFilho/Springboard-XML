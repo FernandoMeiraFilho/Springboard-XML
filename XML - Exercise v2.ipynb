{
 "cells": [
  {
   "cell_type": "markdown",
   "metadata": {},
   "source": [
    "# XML example and exercise\n",
    "****\n",
    "+ study examples of accessing nodes in XML tree structure  \n",
    "+ work on exercise to be completed and submitted\n",
    "****\n",
    "+ reference: https://docs.python.org/2.7/library/xml.etree.elementtree.html\n",
    "+ data source: http://www.dbis.informatik.uni-goettingen.de/Mondial\n",
    "****"
   ]
  },
  {
   "cell_type": "code",
   "execution_count": 5,
   "metadata": {
    "collapsed": true
   },
   "outputs": [],
   "source": [
    "from xml.etree import ElementTree as ET"
   ]
  },
  {
   "cell_type": "markdown",
   "metadata": {},
   "source": [
    "## XML example\n",
    "\n",
    "+ for details about tree traversal and iterators, see https://docs.python.org/2.7/library/xml.etree.elementtree.html"
   ]
  },
  {
   "cell_type": "code",
   "execution_count": 6,
   "metadata": {
    "collapsed": true
   },
   "outputs": [],
   "source": [
    "document_tree = ET.parse( './data/mondial_database_less.xml' )"
   ]
  },
  {
   "cell_type": "code",
   "execution_count": 15,
   "metadata": {
    "collapsed": false
   },
   "outputs": [
    {
     "name": "stdout",
     "output_type": "stream",
     "text": [
      "Albania\n",
      "Greece\n",
      "Macedonia\n",
      "Serbia\n",
      "Montenegro\n",
      "Kosovo\n",
      "Andorra\n"
     ]
    }
   ],
   "source": [
    "# print names of all countries\n",
    "for child in document_tree.getroot():\n",
    "    print (child.find('name').text)"
   ]
  },
  {
   "cell_type": "code",
   "execution_count": 17,
   "metadata": {
    "collapsed": false
   },
   "outputs": [
    {
     "ename": "TypeError",
     "evalue": "'capitals_string' is an invalid keyword argument for this function",
     "output_type": "error",
     "traceback": [
      "\u001b[0;31m---------------------------------------------------------------------------\u001b[0m",
      "\u001b[0;31mTypeError\u001b[0m                                 Traceback (most recent call last)",
      "\u001b[0;32m<ipython-input-17-cebfe1232a8b>\u001b[0m in \u001b[0;36m<module>\u001b[0;34m()\u001b[0m\n\u001b[1;32m      1\u001b[0m \u001b[1;31m# print names of all countries and their cities\u001b[0m\u001b[1;33m\u001b[0m\u001b[1;33m\u001b[0m\u001b[0m\n\u001b[1;32m      2\u001b[0m \u001b[1;32mfor\u001b[0m \u001b[0melement\u001b[0m \u001b[1;32min\u001b[0m \u001b[0mdocument_tree\u001b[0m\u001b[1;33m.\u001b[0m\u001b[0miterfind\u001b[0m\u001b[1;33m(\u001b[0m\u001b[1;34m'country'\u001b[0m\u001b[1;33m)\u001b[0m\u001b[1;33m:\u001b[0m\u001b[1;33m\u001b[0m\u001b[0m\n\u001b[0;32m----> 3\u001b[0;31m     \u001b[0mprint\u001b[0m \u001b[1;33m(\u001b[0m\u001b[1;34m'* '\u001b[0m \u001b[1;33m+\u001b[0m \u001b[0melement\u001b[0m\u001b[1;33m.\u001b[0m\u001b[0mfind\u001b[0m\u001b[1;33m(\u001b[0m\u001b[1;34m'name'\u001b[0m\u001b[1;33m)\u001b[0m\u001b[1;33m.\u001b[0m\u001b[0mtext\u001b[0m \u001b[1;33m+\u001b[0m \u001b[1;34m':'\u001b[0m\u001b[1;33m,\u001b[0m \u001b[0mcapitals_string\u001b[0m \u001b[1;33m=\u001b[0m \u001b[1;34m''\u001b[0m\u001b[1;33m)\u001b[0m\u001b[1;33m\u001b[0m\u001b[0m\n\u001b[0m\u001b[1;32m      4\u001b[0m     \u001b[1;32mfor\u001b[0m \u001b[0msubelement\u001b[0m \u001b[1;32min\u001b[0m \u001b[0melement\u001b[0m\u001b[1;33m.\u001b[0m\u001b[0mgetiterator\u001b[0m\u001b[1;33m(\u001b[0m\u001b[1;34m'city'\u001b[0m\u001b[1;33m)\u001b[0m\u001b[1;33m:\u001b[0m\u001b[1;33m\u001b[0m\u001b[0m\n\u001b[1;32m      5\u001b[0m         \u001b[0mcapitals_string\u001b[0m \u001b[1;33m+=\u001b[0m \u001b[0msubelement\u001b[0m\u001b[1;33m.\u001b[0m\u001b[0mfind\u001b[0m\u001b[1;33m(\u001b[0m\u001b[1;34m'name'\u001b[0m\u001b[1;33m)\u001b[0m\u001b[1;33m.\u001b[0m\u001b[0mtext\u001b[0m \u001b[1;33m+\u001b[0m \u001b[1;34m', '\u001b[0m\u001b[1;33m\u001b[0m\u001b[0m\n",
      "\u001b[0;31mTypeError\u001b[0m: 'capitals_string' is an invalid keyword argument for this function"
     ]
    }
   ],
   "source": [
    "# print names of all countries and their cities\n",
    "for element in document_tree.iterfind('country'):\n",
    "    print ('* ' + element.find('name').text + ':', capitals_string = '')\n",
    "    for subelement in element.getiterator('city'):\n",
    "        capitals_string += subelement.find('name').text + ', '\n",
    "    print (capitals_string[:-2])"
   ]
  },
  {
   "cell_type": "markdown",
   "metadata": {},
   "source": [
    "****\n",
    "## XML exercise\n",
    "\n",
    "Using data in 'data/mondial_database.xml', the examples above, and refering to https://docs.python.org/2.7/library/xml.etree.elementtree.html, find\n",
    "\n",
    "1. 10 countries with the lowest infant mortality rates\n",
    "2. 10 cities with the largest population\n",
    "3. 10 ethnic groups with the largest overall populations (sum of best/latest estimates over all countries)\n",
    "4. name and country of a) longest river, b) largest lake and c) airport at highest elevation"
   ]
  },
  {
   "cell_type": "code",
   "execution_count": 18,
   "metadata": {
    "collapsed": true
   },
   "outputs": [],
   "source": [
    "document = ET.parse( './data/mondial_database.xml' )\n",
    "root = document.getroot() "
   ]
  },
  {
   "cell_type": "markdown",
   "metadata": {},
   "source": [
    "# Anwers"
   ]
  },
  {
   "cell_type": "markdown",
   "metadata": {},
   "source": [
    "EXERCISE 1 "
   ]
  },
  {
   "cell_type": "code",
   "execution_count": 10,
   "metadata": {
    "collapsed": true
   },
   "outputs": [],
   "source": [
    "import pandas as pd"
   ]
  },
  {
   "cell_type": "code",
   "execution_count": 11,
   "metadata": {
    "collapsed": false
   },
   "outputs": [
    {
     "data": {
      "text/html": [
       "<div>\n",
       "<table border=\"1\" class=\"dataframe\">\n",
       "  <thead>\n",
       "    <tr style=\"text-align: right;\">\n",
       "      <th></th>\n",
       "      <th>name</th>\n",
       "      <th>mort</th>\n",
       "    </tr>\n",
       "  </thead>\n",
       "  <tbody>\n",
       "    <tr>\n",
       "      <th>36</th>\n",
       "      <td>Monaco</td>\n",
       "      <td>1.81</td>\n",
       "    </tr>\n",
       "    <tr>\n",
       "      <th>90</th>\n",
       "      <td>Japan</td>\n",
       "      <td>2.13</td>\n",
       "    </tr>\n",
       "    <tr>\n",
       "      <th>109</th>\n",
       "      <td>Bermuda</td>\n",
       "      <td>2.48</td>\n",
       "    </tr>\n",
       "    <tr>\n",
       "      <th>34</th>\n",
       "      <td>Norway</td>\n",
       "      <td>2.48</td>\n",
       "    </tr>\n",
       "    <tr>\n",
       "      <th>98</th>\n",
       "      <td>Singapore</td>\n",
       "      <td>2.53</td>\n",
       "    </tr>\n",
       "    <tr>\n",
       "      <th>35</th>\n",
       "      <td>Sweden</td>\n",
       "      <td>2.60</td>\n",
       "    </tr>\n",
       "    <tr>\n",
       "      <th>8</th>\n",
       "      <td>Czech Republic</td>\n",
       "      <td>2.63</td>\n",
       "    </tr>\n",
       "    <tr>\n",
       "      <th>72</th>\n",
       "      <td>Hong Kong</td>\n",
       "      <td>2.73</td>\n",
       "    </tr>\n",
       "    <tr>\n",
       "      <th>73</th>\n",
       "      <td>Macao</td>\n",
       "      <td>3.13</td>\n",
       "    </tr>\n",
       "    <tr>\n",
       "      <th>39</th>\n",
       "      <td>Iceland</td>\n",
       "      <td>3.15</td>\n",
       "    </tr>\n",
       "  </tbody>\n",
       "</table>\n",
       "</div>"
      ],
      "text/plain": [
       "               name  mort\n",
       "36           Monaco  1.81\n",
       "90            Japan  2.13\n",
       "109         Bermuda  2.48\n",
       "34           Norway  2.48\n",
       "98        Singapore  2.53\n",
       "35           Sweden  2.60\n",
       "8    Czech Republic  2.63\n",
       "72        Hong Kong  2.73\n",
       "73            Macao  3.13\n",
       "39          Iceland  3.15"
      ]
     },
     "execution_count": 11,
     "metadata": {},
     "output_type": "execute_result"
    }
   ],
   "source": [
    "# Extracting values to future DataFrame - PLan: Create a easy dataframe and use Pandas on it\n",
    "\n",
    "\n",
    "\n",
    "ex1 = { 'mort': [], 'name':[]}\n",
    "\n",
    "\n",
    "for x in root.iter('country'):\n",
    "    for name,mort in zip(x.findall('name'),x.findall('infant_mortality')):\n",
    "        ex1['name'].append(name.text)\n",
    "        ex1['mort'].append(mort.text)\n",
    "    \n",
    "    \n",
    "# Using Pandas to show the results\n",
    "\n",
    "data = pd.DataFrame(data=ex1)\n",
    "data = data[['name','mort']]\n",
    "data['mort']=data.mort.astype(float)\n",
    "\n",
    "data.sort_values(by='mort').head(10)\n"
   ]
  },
  {
   "cell_type": "markdown",
   "metadata": {},
   "source": [
    "EXERCISE 2"
   ]
  },
  {
   "cell_type": "code",
   "execution_count": 12,
   "metadata": {
    "collapsed": true
   },
   "outputs": [],
   "source": [
    "import numpy as np"
   ]
  },
  {
   "cell_type": "code",
   "execution_count": 13,
   "metadata": {
    "collapsed": false
   },
   "outputs": [
    {
     "name": "stderr",
     "output_type": "stream",
     "text": [
      "F:\\Anaconda2\\lib\\site-packages\\ipykernel\\__main__.py:34: SettingWithCopyWarning: \n",
      "A value is trying to be set on a copy of a slice from a DataFrame.\n",
      "Try using .loc[row_indexer,col_indexer] = value instead\n",
      "\n",
      "See the caveats in the documentation: http://pandas.pydata.org/pandas-docs/stable/indexing.html#indexing-view-versus-copy\n"
     ]
    },
    {
     "data": {
      "text/html": [
       "<div>\n",
       "<table border=\"1\" class=\"dataframe\">\n",
       "  <thead>\n",
       "    <tr style=\"text-align: right;\">\n",
       "      <th></th>\n",
       "      <th>name</th>\n",
       "      <th>pop</th>\n",
       "    </tr>\n",
       "  </thead>\n",
       "  <tbody>\n",
       "    <tr>\n",
       "      <th>1527</th>\n",
       "      <td>Mumbai</td>\n",
       "      <td>12442373</td>\n",
       "    </tr>\n",
       "    <tr>\n",
       "      <th>1582</th>\n",
       "      <td>Delhi</td>\n",
       "      <td>11034555</td>\n",
       "    </tr>\n",
       "    <tr>\n",
       "      <th>1515</th>\n",
       "      <td>Bangalore</td>\n",
       "      <td>8443675</td>\n",
       "    </tr>\n",
       "    <tr>\n",
       "      <th>1000</th>\n",
       "      <td>London</td>\n",
       "      <td>8250205</td>\n",
       "    </tr>\n",
       "    <tr>\n",
       "      <th>1382</th>\n",
       "      <td>Tehran</td>\n",
       "      <td>8154051</td>\n",
       "    </tr>\n",
       "    <tr>\n",
       "      <th>1470</th>\n",
       "      <td>Dhaka</td>\n",
       "      <td>7423137</td>\n",
       "    </tr>\n",
       "    <tr>\n",
       "      <th>1591</th>\n",
       "      <td>Hyderabad</td>\n",
       "      <td>6731790</td>\n",
       "    </tr>\n",
       "    <tr>\n",
       "      <th>1505</th>\n",
       "      <td>Ahmadabad</td>\n",
       "      <td>5577940</td>\n",
       "    </tr>\n",
       "    <tr>\n",
       "      <th>3056</th>\n",
       "      <td>Luanda</td>\n",
       "      <td>5000000</td>\n",
       "    </tr>\n",
       "    <tr>\n",
       "      <th>1556</th>\n",
       "      <td>Chennai</td>\n",
       "      <td>4646732</td>\n",
       "    </tr>\n",
       "  </tbody>\n",
       "</table>\n",
       "</div>"
      ],
      "text/plain": [
       "           name       pop\n",
       "1527     Mumbai  12442373\n",
       "1582      Delhi  11034555\n",
       "1515  Bangalore   8443675\n",
       "1000     London   8250205\n",
       "1382     Tehran   8154051\n",
       "1470      Dhaka   7423137\n",
       "1591  Hyderabad   6731790\n",
       "1505  Ahmadabad   5577940\n",
       "3056     Luanda   5000000\n",
       "1556    Chennai   4646732"
      ]
     },
     "execution_count": 13,
     "metadata": {},
     "output_type": "execute_result"
    }
   ],
   "source": [
    "# Extracting values to future DataFrame - PLan: Create a easy dataframe and use Pandas on it\n",
    "\n",
    "#ASSUMING THE POPULATION ONLY IN CITIES WITH 2011 CENSUS INFO - NOT DESCRIBED IN THE QUESTION\n",
    "\n",
    "ex2 = { 'pop': [], 'name':[]}\n",
    "\n",
    "for ct in root.iter('city'):\n",
    "    ex2['name'].append(ct[0].text)\n",
    "    #checking if there is a population tag\n",
    "    p = ct.find('population')\n",
    "    if p is None:\n",
    "        #if not, nan\n",
    "        ex2['pop'].append(np.nan)\n",
    "    else:\n",
    "        # if there is:\n",
    "        #iterate into population tags to check if is there a attrib = 2011\n",
    "        check=[]\n",
    "        for x in ct.iter('population'):\n",
    "            check.append(x.attrib['year'])\n",
    "        if '2011' in check:\n",
    "            for x in ct.iter('population'):\n",
    "                if x.attrib['year'] == '2011':\n",
    "                    ex2['pop'].append(x.text)\n",
    "        else:\n",
    "            ex2['pop'].append(np.nan)\n",
    "            \n",
    "          \n",
    "    \n",
    "    \n",
    "# Using Pandas to show the results\n",
    "\n",
    "data = pd.DataFrame(data=ex2)\n",
    "data_clean= data.dropna(axis=0)\n",
    "data_clean['pop'] = data_clean['pop'].astype(int)\n",
    "\n",
    "\n",
    "\n",
    "data_clean.sort_values(by='pop', ascending=False).head(10)\n"
   ]
  },
  {
   "cell_type": "markdown",
   "metadata": {
    "collapsed": true
   },
   "source": [
    "EXERCISE 3"
   ]
  },
  {
   "cell_type": "code",
   "execution_count": 14,
   "metadata": {
    "collapsed": false
   },
   "outputs": [
    {
     "data": {
      "text/html": [
       "<div>\n",
       "<table border=\"1\" class=\"dataframe\">\n",
       "  <thead>\n",
       "    <tr style=\"text-align: right;\">\n",
       "      <th></th>\n",
       "      <th>ethnic</th>\n",
       "      <th>pop</th>\n",
       "    </tr>\n",
       "  </thead>\n",
       "  <tbody>\n",
       "    <tr>\n",
       "      <th>80</th>\n",
       "      <td>Han Chinese</td>\n",
       "      <td>1.245059e+09</td>\n",
       "    </tr>\n",
       "    <tr>\n",
       "      <th>106</th>\n",
       "      <td>Indo-Aryan</td>\n",
       "      <td>8.718156e+08</td>\n",
       "    </tr>\n",
       "    <tr>\n",
       "      <th>105</th>\n",
       "      <td>Dravidian</td>\n",
       "      <td>3.027137e+08</td>\n",
       "    </tr>\n",
       "    <tr>\n",
       "      <th>98</th>\n",
       "      <td>Bengali</td>\n",
       "      <td>1.467769e+08</td>\n",
       "    </tr>\n",
       "    <tr>\n",
       "      <th>139</th>\n",
       "      <td>Japanese</td>\n",
       "      <td>1.265342e+08</td>\n",
       "    </tr>\n",
       "    <tr>\n",
       "      <th>130</th>\n",
       "      <td>Eastern Hamitic</td>\n",
       "      <td>8.283038e+07</td>\n",
       "    </tr>\n",
       "    <tr>\n",
       "      <th>147</th>\n",
       "      <td>Mulatto</td>\n",
       "      <td>7.806590e+07</td>\n",
       "    </tr>\n",
       "    <tr>\n",
       "      <th>119</th>\n",
       "      <td>Viet/Kinh</td>\n",
       "      <td>7.607838e+07</td>\n",
       "    </tr>\n",
       "    <tr>\n",
       "      <th>70</th>\n",
       "      <td>English</td>\n",
       "      <td>5.359233e+07</td>\n",
       "    </tr>\n",
       "    <tr>\n",
       "      <th>17</th>\n",
       "      <td>Mediterranean Nordic</td>\n",
       "      <td>4.681592e+07</td>\n",
       "    </tr>\n",
       "  </tbody>\n",
       "</table>\n",
       "</div>"
      ],
      "text/plain": [
       "                   ethnic           pop\n",
       "80            Han Chinese  1.245059e+09\n",
       "106            Indo-Aryan  8.718156e+08\n",
       "105             Dravidian  3.027137e+08\n",
       "98                Bengali  1.467769e+08\n",
       "139              Japanese  1.265342e+08\n",
       "130       Eastern Hamitic  8.283038e+07\n",
       "147               Mulatto  7.806590e+07\n",
       "119             Viet/Kinh  7.607838e+07\n",
       "70                English  5.359233e+07\n",
       "17   Mediterranean Nordic  4.681592e+07"
      ]
     },
     "execution_count": 14,
     "metadata": {},
     "output_type": "execute_result"
    }
   ],
   "source": [
    "# Extracting values to future DataFrame - PLan: Create a easy dataframe and use Pandas on it\n",
    "\n",
    "ex3 = {}\n",
    "\n",
    "for ct in root.iter('country'):\n",
    "    #checking if there is a ethnicgroup tag\n",
    "    p = ct.find('ethnicgroup')\n",
    "    if p is not None:\n",
    "    # Final Plan:  ex3['ethnicgroup'] += % * population\n",
    "        \n",
    "        #getting population variable\n",
    "        bestyear = []\n",
    "        for pop in ct.findall('population'):\n",
    "            bestyear.append(pop.attrib['year'])\n",
    "        \n",
    "        population= []\n",
    "        for pop in ct.findall('population'):\n",
    "            if pop.attrib['year'] == bestyear[len(bestyear) -1]:\n",
    "                population.append(pop.text)\n",
    "        \n",
    "    \n",
    "        for et in ct.findall('ethnicgroup'):\n",
    "            a = et.get('percentage')\n",
    "            ex3[et.text] =+ ((float(a)/100 )*(float(population[0])))\n",
    "\n",
    "# seting dict to pandas dataframe            \n",
    "ex33 = {'ethnic': [], 'pop' : []}\n",
    "for etc,pop in ex3.items():\n",
    "    ex33['ethnic'].append(etc)\n",
    "    ex33['pop'].append(pop)   \n",
    "    \n",
    "# Using Pandas to show the results\n",
    "data = pd.DataFrame(data=ex33)\n",
    "data.sort_values(by='pop', ascending=False).head(10)\n",
    "\n"
   ]
  },
  {
   "cell_type": "markdown",
   "metadata": {
    "collapsed": true
   },
   "source": []
  },
  {
   "cell_type": "markdown",
   "metadata": {
    "collapsed": true
   },
   "source": [
    "EXERCISE 4"
   ]
  },
  {
   "cell_type": "markdown",
   "metadata": {},
   "source": [
    "a) Longest River"
   ]
  },
  {
   "cell_type": "code",
   "execution_count": 54,
   "metadata": {
    "collapsed": false
   },
   "outputs": [
    {
     "data": {
      "text/html": [
       "<div>\n",
       "<table border=\"1\" class=\"dataframe\">\n",
       "  <thead>\n",
       "    <tr style=\"text-align: right;\">\n",
       "      <th></th>\n",
       "      <th>country</th>\n",
       "      <th>length</th>\n",
       "      <th>river</th>\n",
       "    </tr>\n",
       "  </thead>\n",
       "  <tbody>\n",
       "    <tr>\n",
       "      <th>174</th>\n",
       "      <td>CO BR PE</td>\n",
       "      <td>6448.0</td>\n",
       "      <td>Amazonas</td>\n",
       "    </tr>\n",
       "    <tr>\n",
       "      <th>137</th>\n",
       "      <td>CN</td>\n",
       "      <td>6380.0</td>\n",
       "      <td>Jangtse</td>\n",
       "    </tr>\n",
       "    <tr>\n",
       "      <th>136</th>\n",
       "      <td>CN</td>\n",
       "      <td>4845.0</td>\n",
       "      <td>Hwangho</td>\n",
       "    </tr>\n",
       "    <tr>\n",
       "      <th>123</th>\n",
       "      <td>R</td>\n",
       "      <td>4400.0</td>\n",
       "      <td>Lena</td>\n",
       "    </tr>\n",
       "    <tr>\n",
       "      <th>205</th>\n",
       "      <td>RCB ZRE</td>\n",
       "      <td>4374.0</td>\n",
       "      <td>Zaire</td>\n",
       "    </tr>\n",
       "    <tr>\n",
       "      <th>138</th>\n",
       "      <td>CN LAO THA K VN</td>\n",
       "      <td>4350.0</td>\n",
       "      <td>Mekong</td>\n",
       "    </tr>\n",
       "    <tr>\n",
       "      <th>115</th>\n",
       "      <td>R KAZ CN</td>\n",
       "      <td>4248.0</td>\n",
       "      <td>Irtysch</td>\n",
       "    </tr>\n",
       "    <tr>\n",
       "      <th>186</th>\n",
       "      <td>RMM RN WAN RG</td>\n",
       "      <td>4184.0</td>\n",
       "      <td>Niger</td>\n",
       "    </tr>\n",
       "    <tr>\n",
       "      <th>160</th>\n",
       "      <td>USA</td>\n",
       "      <td>4130.0</td>\n",
       "      <td>Missouri</td>\n",
       "    </tr>\n",
       "    <tr>\n",
       "      <th>119</th>\n",
       "      <td>R</td>\n",
       "      <td>4092.0</td>\n",
       "      <td>Jenissej</td>\n",
       "    </tr>\n",
       "  </tbody>\n",
       "</table>\n",
       "</div>"
      ],
      "text/plain": [
       "             country  length     river\n",
       "174         CO BR PE  6448.0  Amazonas\n",
       "137               CN  6380.0   Jangtse\n",
       "136               CN  4845.0   Hwangho\n",
       "123                R  4400.0      Lena\n",
       "205          RCB ZRE  4374.0     Zaire\n",
       "138  CN LAO THA K VN  4350.0    Mekong\n",
       "115         R KAZ CN  4248.0   Irtysch\n",
       "186    RMM RN WAN RG  4184.0     Niger\n",
       "160              USA  4130.0  Missouri\n",
       "119                R  4092.0  Jenissej"
      ]
     },
     "execution_count": 54,
     "metadata": {},
     "output_type": "execute_result"
    }
   ],
   "source": [
    "# dict to create DataFrame to show the results in the end\n",
    "ex4a = {'river': [], 'country':[], 'length':[] }\n",
    "\n",
    "#Filling the dict with , country, river, length\n",
    "\n",
    "country =[]\n",
    "river = []\n",
    "length = []\n",
    "\n",
    "for ct in root.iter('river'):\n",
    "    \n",
    "    country.append(ct.get('country')) # getting the name of the country\n",
    "    \n",
    "    \n",
    "    for n in ct.findall('name'): # exploring the name tags inside the lake`s tags\n",
    "        river.append(n.text)\n",
    "        \n",
    "    length_check = ct.find('length')\n",
    "    if length_check is not None: # just checking if there isn`t any missing tag\n",
    "        for a in ct.findall('length'): # exploring the area tags inside the lake's tags\n",
    "            length.append(a.text)     \n",
    "    else:\n",
    "        length.append('0')\n",
    "        \n",
    "ex4a['country'] = country\n",
    "ex4a['river'] = river\n",
    "ex4a['length'] = length\n",
    "\n",
    "#print(len(ex4a['country']))\n",
    "#print(len(ex4a['river']))\n",
    "#print(len(ex4a['length'])) \n",
    "        \n",
    "data = pd.DataFrame(data=ex4a)\n",
    "data['length'] = data['length'].astype(float)\n",
    "data.sort_values(by='length', ascending=False).head(10)"
   ]
  },
  {
   "cell_type": "markdown",
   "metadata": {
    "collapsed": true
   },
   "source": [
    "b) Largest Lake"
   ]
  },
  {
   "cell_type": "code",
   "execution_count": 50,
   "metadata": {
    "collapsed": false
   },
   "outputs": [
    {
     "data": {
      "text/html": [
       "<div>\n",
       "<table border=\"1\" class=\"dataframe\">\n",
       "  <thead>\n",
       "    <tr style=\"text-align: right;\">\n",
       "      <th></th>\n",
       "      <th>area</th>\n",
       "      <th>country</th>\n",
       "      <th>lake</th>\n",
       "    </tr>\n",
       "  </thead>\n",
       "  <tbody>\n",
       "    <tr>\n",
       "      <th>54</th>\n",
       "      <td>386400.0</td>\n",
       "      <td>R AZ KAZ IR TM</td>\n",
       "      <td>Caspian Sea</td>\n",
       "    </tr>\n",
       "    <tr>\n",
       "      <th>109</th>\n",
       "      <td>82103.0</td>\n",
       "      <td>CDN USA</td>\n",
       "      <td>Lake Superior</td>\n",
       "    </tr>\n",
       "    <tr>\n",
       "      <th>81</th>\n",
       "      <td>68870.0</td>\n",
       "      <td>EAT EAK EAU</td>\n",
       "      <td>Lake Victoria</td>\n",
       "    </tr>\n",
       "    <tr>\n",
       "      <th>106</th>\n",
       "      <td>59600.0</td>\n",
       "      <td>CDN USA</td>\n",
       "      <td>Lake Huron</td>\n",
       "    </tr>\n",
       "    <tr>\n",
       "      <th>108</th>\n",
       "      <td>57800.0</td>\n",
       "      <td>USA</td>\n",
       "      <td>Lake Michigan</td>\n",
       "    </tr>\n",
       "    <tr>\n",
       "      <th>47</th>\n",
       "      <td>41650.0</td>\n",
       "      <td>IL JOR WEST</td>\n",
       "      <td>Dead Sea</td>\n",
       "    </tr>\n",
       "    <tr>\n",
       "      <th>83</th>\n",
       "      <td>32893.0</td>\n",
       "      <td>ZRE Z BI EAT</td>\n",
       "      <td>Lake Tanganjika</td>\n",
       "    </tr>\n",
       "    <tr>\n",
       "      <th>98</th>\n",
       "      <td>31792.0</td>\n",
       "      <td>CDN</td>\n",
       "      <td>Great Bear Lake</td>\n",
       "    </tr>\n",
       "    <tr>\n",
       "      <th>43</th>\n",
       "      <td>31492.0</td>\n",
       "      <td>R</td>\n",
       "      <td>Ozero Baikal</td>\n",
       "    </tr>\n",
       "    <tr>\n",
       "      <th>89</th>\n",
       "      <td>29600.0</td>\n",
       "      <td>MW MOC EAT</td>\n",
       "      <td>Lake Malawi</td>\n",
       "    </tr>\n",
       "  </tbody>\n",
       "</table>\n",
       "</div>"
      ],
      "text/plain": [
       "         area         country             lake\n",
       "54   386400.0  R AZ KAZ IR TM      Caspian Sea\n",
       "109   82103.0         CDN USA    Lake Superior\n",
       "81    68870.0     EAT EAK EAU    Lake Victoria\n",
       "106   59600.0         CDN USA       Lake Huron\n",
       "108   57800.0             USA    Lake Michigan\n",
       "47    41650.0     IL JOR WEST         Dead Sea\n",
       "83    32893.0    ZRE Z BI EAT  Lake Tanganjika\n",
       "98    31792.0             CDN  Great Bear Lake\n",
       "43    31492.0               R     Ozero Baikal\n",
       "89    29600.0      MW MOC EAT      Lake Malawi"
      ]
     },
     "execution_count": 50,
     "metadata": {},
     "output_type": "execute_result"
    }
   ],
   "source": [
    "# dict to create DataFrame to show the results in the end\n",
    "ex4b = {'lake': [], 'country':[], 'area':[] }\n",
    "\n",
    "#Filling the dict with , country, lake, area\n",
    "\n",
    "country =[]\n",
    "lake = []\n",
    "area = []\n",
    "\n",
    "for ct in root.iter('lake'):\n",
    "    \n",
    "    country.append(ct.get('country')) # getting the name of the country\n",
    "    \n",
    "    \n",
    "    for n in ct.findall('name'): # exploring the name tags inside the lake`s tags\n",
    "        lake.append(n.text)\n",
    "        \n",
    "    area_check = ct.find('area')\n",
    "    if area_check is not None: # there are two lines with no area tag so we need to check first e add a 0 value to them\n",
    "        for a in ct.findall('area'): # exploring the area tags inside the lake's tags\n",
    "            area.append(a.text)     \n",
    "    else:\n",
    "        area.append('0')\n",
    "        \n",
    "ex4b['country'] = country\n",
    "ex4b['lake'] = lake\n",
    "ex4b['area'] = area\n",
    "\n",
    "#print(len(ex4a['country']))\n",
    "#print(len(ex4a['lake']))\n",
    "#print(len(ex4a['area'])) #- 139 !! There are two lines with no area value, so we need to address this in the code\n",
    "        \n",
    "data = pd.DataFrame(data=ex4b)\n",
    "data['area'] = data['area'].astype(float)\n",
    "data.sort_values(by='area', ascending=False).head(10)"
   ]
  },
  {
   "cell_type": "markdown",
   "metadata": {},
   "source": [
    "c) airport at highest elevation "
   ]
  },
  {
   "cell_type": "code",
   "execution_count": 62,
   "metadata": {
    "collapsed": false
   },
   "outputs": [
    {
     "data": {
      "text/html": [
       "<div>\n",
       "<table border=\"1\" class=\"dataframe\">\n",
       "  <thead>\n",
       "    <tr style=\"text-align: right;\">\n",
       "      <th></th>\n",
       "      <th>airport</th>\n",
       "      <th>country</th>\n",
       "      <th>elevation</th>\n",
       "    </tr>\n",
       "  </thead>\n",
       "  <tbody>\n",
       "    <tr>\n",
       "      <th>80</th>\n",
       "      <td>El Alto Intl</td>\n",
       "      <td>BOL</td>\n",
       "      <td>4063.0</td>\n",
       "    </tr>\n",
       "    <tr>\n",
       "      <th>219</th>\n",
       "      <td>Lhasa-Gonggar</td>\n",
       "      <td>CN</td>\n",
       "      <td>4005.0</td>\n",
       "    </tr>\n",
       "    <tr>\n",
       "      <th>241</th>\n",
       "      <td>Yushu Batang</td>\n",
       "      <td>CN</td>\n",
       "      <td>3963.0</td>\n",
       "    </tr>\n",
       "    <tr>\n",
       "      <th>813</th>\n",
       "      <td>Juliaca</td>\n",
       "      <td>PE</td>\n",
       "      <td>3827.0</td>\n",
       "    </tr>\n",
       "    <tr>\n",
       "      <th>815</th>\n",
       "      <td>Teniente Alejandro Velasco Astete Intl</td>\n",
       "      <td>PE</td>\n",
       "      <td>3311.0</td>\n",
       "    </tr>\n",
       "    <tr>\n",
       "      <th>82</th>\n",
       "      <td>Juana Azurduy De Padilla</td>\n",
       "      <td>BOL</td>\n",
       "      <td>2905.0</td>\n",
       "    </tr>\n",
       "    <tr>\n",
       "      <th>334</th>\n",
       "      <td>Mariscal Sucre Intl</td>\n",
       "      <td>EC</td>\n",
       "      <td>2813.0</td>\n",
       "    </tr>\n",
       "    <tr>\n",
       "      <th>805</th>\n",
       "      <td>Coronel Fap Alfredo Mendivil Duarte</td>\n",
       "      <td>PE</td>\n",
       "      <td>2719.0</td>\n",
       "    </tr>\n",
       "    <tr>\n",
       "      <th>807</th>\n",
       "      <td>Mayor General FAP Armando Revoredo Iglesias Ai...</td>\n",
       "      <td>PE</td>\n",
       "      <td>2677.0</td>\n",
       "    </tr>\n",
       "    <tr>\n",
       "      <th>692</th>\n",
       "      <td>Licenciado Adolfo Lopez Mateos Intl</td>\n",
       "      <td>MEX</td>\n",
       "      <td>2581.0</td>\n",
       "    </tr>\n",
       "  </tbody>\n",
       "</table>\n",
       "</div>"
      ],
      "text/plain": [
       "                                               airport country  elevation\n",
       "80                                        El Alto Intl     BOL     4063.0\n",
       "219                                      Lhasa-Gonggar      CN     4005.0\n",
       "241                                       Yushu Batang      CN     3963.0\n",
       "813                                            Juliaca      PE     3827.0\n",
       "815             Teniente Alejandro Velasco Astete Intl      PE     3311.0\n",
       "82                            Juana Azurduy De Padilla     BOL     2905.0\n",
       "334                                Mariscal Sucre Intl      EC     2813.0\n",
       "805                Coronel Fap Alfredo Mendivil Duarte      PE     2719.0\n",
       "807  Mayor General FAP Armando Revoredo Iglesias Ai...      PE     2677.0\n",
       "692                Licenciado Adolfo Lopez Mateos Intl     MEX     2581.0"
      ]
     },
     "execution_count": 62,
     "metadata": {},
     "output_type": "execute_result"
    }
   ],
   "source": [
    "# dict to create DataFrame to show the results in the end\n",
    "ex4c = {'airport': [], 'country':[], 'elevation':[] }\n",
    "\n",
    "#Filling the dict with , country, airport, elevation\n",
    "\n",
    "country =[]\n",
    "airport = []\n",
    "elevation = []\n",
    "\n",
    "for ct in root.iter('airport'):\n",
    "    \n",
    "    country.append(ct.get('country')) # getting the name of the country\n",
    "    \n",
    "    \n",
    "    for n in ct.findall('name'): # exploring the name tags inside the lake`s tags\n",
    "        airport.append(n.text)\n",
    "        \n",
    "    elevation_check = ct.find('elevation')\n",
    "    if elevation_check is not None: # there are two lines with no area tag so we need to check first e add a 0 value to them\n",
    "        for a in ct.findall('elevation'): # exploring the elevation tags inside the lake's tags\n",
    "            elevation.append(a.text)     \n",
    "    else:\n",
    "        area.append('0')\n",
    "        \n",
    "ex4c['country'] = country\n",
    "ex4c['airport'] = airport\n",
    "ex4c['elevation'] = elevation\n",
    "\n",
    "#print(len(ex4c['country']))\n",
    "#print(len(ex4c['airport']))\n",
    "#print(len(ex4c['elevation'])) \n",
    "        \n",
    "data = pd.DataFrame(data=ex4c)\n",
    "data['elevation'] = data['elevation'].astype(float)\n",
    "data.sort_values(by='elevation', ascending=False).head(10)"
   ]
  }
 ],
 "metadata": {
  "kernelspec": {
   "display_name": "Python 3",
   "language": "python",
   "name": "python3"
  },
  "language_info": {
   "codemirror_mode": {
    "name": "ipython",
    "version": 3
   },
   "file_extension": ".py",
   "mimetype": "text/x-python",
   "name": "python",
   "nbconvert_exporter": "python",
   "pygments_lexer": "ipython3",
   "version": "3.6.0"
  }
 },
 "nbformat": 4,
 "nbformat_minor": 0
}
